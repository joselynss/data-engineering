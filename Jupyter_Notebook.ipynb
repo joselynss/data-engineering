{
 "cells": [
  {
   "cell_type": "markdown",
   "metadata": {},
   "source": [
    "# Data Science Tools and Ecosystem"
   ]
  },
  {
   "cell_type": "markdown",
   "metadata": {},
   "source": [
    "in this notebook, data science tools and ecosysstem are summarized"
   ]
  },
  {
   "cell_type": "markdown",
   "metadata": {},
   "source": [
    "here are several languages for data science\n",
    "1. python\n",
    "2. r\n",
    "3. sql\n",
    "4. scala\n",
    "5. java\n",
    "6. c++\n",
    "7. julia\n",
    "8. javascript\n",
    "9. php\n",
    "10. go\n",
    "11. ruby\n",
    "12. visual basic"
   ]
  },
  {
   "cell_type": "markdown",
   "metadata": {},
   "source": [
    "here are several libraries for data science\n",
    "1. pandas\n",
    "2. scikitlearn\n",
    "3. matplotlib\n",
    "4. seaborn\n",
    "5. numpy\n",
    "6. keras\n",
    "7. tensorflow\n",
    "8. pytorch\n",
    "9. apache spark\n",
    "10. vegas\n",
    "11. big dl"
   ]
  },
  {
   "cell_type": "markdown",
   "metadata": {},
   "source": [
    "\n",
    "| Tool| \n",
    "|--------|\n",
    "| **Tableau** | \n",
    "| **Anaconda**| \n",
    "| **Jupyter Notebook**| \n",
    "| **R Studio**| "
   ]
  },
  {
   "cell_type": "markdown",
   "metadata": {},
   "source": [
    "introduction to arithmetic examples"
   ]
  },
  {
   "cell_type": "code",
   "execution_count": 3,
   "metadata": {},
   "outputs": [
    {
     "data": {
      "text/plain": [
       "9"
      ]
     },
     "execution_count": 3,
     "metadata": {},
     "output_type": "execute_result"
    }
   ],
   "source": [
    "# here is an example of multiplication and addition arithmetic\n",
    "2*3+3"
   ]
  },
  {
   "cell_type": "code",
   "execution_count": 1,
   "metadata": {},
   "outputs": [
    {
     "data": {
      "text/plain": [
       "5"
      ]
     },
     "execution_count": 1,
     "metadata": {},
     "output_type": "execute_result"
    }
   ],
   "source": [
    "# this operation will convert minute to hour\n",
    "300//60"
   ]
  },
  {
   "cell_type": "markdown",
   "metadata": {},
   "source": [
    "**Objectives**\n",
    "- add comments to code\n",
    "- create markdown cells\n",
    "- unordered and ordered list\n",
    "- arithmetic operations"
   ]
  },
  {
   "cell_type": "markdown",
   "metadata": {},
   "source": [
    "## author(s) \n",
    "name : jos\\\n",
    "email : joselynpffice@gmail.com"
   ]
  },
  {
   "cell_type": "code",
   "execution_count": null,
   "metadata": {},
   "outputs": [],
   "source": []
  },
  {
   "cell_type": "code",
   "execution_count": null,
   "metadata": {},
   "outputs": [],
   "source": []
  }
 ],
 "metadata": {
  "kernelspec": {
   "display_name": "Python 3 (ipykernel)",
   "language": "python",
   "name": "python3"
  },
  "language_info": {
   "codemirror_mode": {
    "name": "ipython",
    "version": 3
   },
   "file_extension": ".py",
   "mimetype": "text/x-python",
   "name": "python",
   "nbconvert_exporter": "python",
   "pygments_lexer": "ipython3",
   "version": "3.12.8"
  }
 },
 "nbformat": 4,
 "nbformat_minor": 4
}
